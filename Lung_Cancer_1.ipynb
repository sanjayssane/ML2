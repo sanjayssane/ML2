{
  "nbformat": 4,
  "nbformat_minor": 0,
  "metadata": {
    "accelerator": "TPU",
    "colab": {
      "name": "Lung_Cancer_1.ipynb",
      "provenance": [],
      "machine_shape": "hm",
      "mount_file_id": "1x3mfZuFh7hpqCtIl5uUcbYW62SA7k-mw",
      "authorship_tag": "ABX9TyMajTOuw9QcN994UK2N60nK",
      "include_colab_link": true
    },
    "kernelspec": {
      "display_name": "Python 3",
      "name": "python3"
    },
    "language_info": {
      "name": "python"
    }
  },
  "cells": [
    {
      "cell_type": "markdown",
      "metadata": {
        "id": "view-in-github",
        "colab_type": "text"
      },
      "source": [
        "<a href=\"https://colab.research.google.com/github/sanjayssane/ML2/blob/master/Lung_Cancer_1.ipynb\" target=\"_parent\"><img src=\"https://colab.research.google.com/assets/colab-badge.svg\" alt=\"Open In Colab\"/></a>"
      ]
    },
    {
      "cell_type": "code",
      "metadata": {
        "id": "iKON8-cfen0T"
      },
      "source": [
        "import numpy as np\n",
        "%matplotlib inline\n",
        "import matplotlib.image as mpimg\n",
        "import matplotlib.pyplot as plt\n",
        "import tensorflow as tf\n",
        "from tensorflow.keras.preprocessing.image import ImageDataGenerator\n",
        "from tensorflow.keras import layers\n",
        "from tensorflow.keras import Model\n",
        "from tensorflow.keras.applications import ResNet50\n",
        "from tensorflow.keras.optimizers import Adam\n",
        "import os"
      ],
      "execution_count": null,
      "outputs": []
    },
    {
      "cell_type": "code",
      "metadata": {
        "id": "deF1jtSve8x5"
      },
      "source": [
        "os.chdir(\"/content/drive/MyDrive/Lung-Colon-Cancer/lung_image_sets\")"
      ],
      "execution_count": null,
      "outputs": []
    },
    {
      "cell_type": "code",
      "metadata": {
        "id": "GMvVpjQ0hWZM"
      },
      "source": [
        "TRAIN_ACA_DIR = \"./Splitted/TRAIN/aca/\"\n",
        "TEST_ACA_DIR = \"./Splitted/TEST/aca/\"\n",
        "VAL_ACA_DIR = \"./Splitted/VAL/aca/\"\n",
        "\n",
        "TRAIN_N_DIR = \"./Splitted/TRAIN/n/\"\n",
        "TEST_N_DIR = \"./Splitted/TEST/n/\"\n",
        "VAL_N_DIR = \"./Splitted/VAL/n/\"\n",
        "\n",
        "TRAIN_SCC_DIR = \"./Splitted/TRAIN/scc/\"\n",
        "TEST_SCC_DIR = \"./Splitted/TEST/scc/\"\n",
        "VAL_SCC_DIR = \"./Splitted/VAL/scc/\""
      ],
      "execution_count": null,
      "outputs": []
    },
    {
      "cell_type": "code",
      "metadata": {
        "colab": {
          "base_uri": "https://localhost:8080/"
        },
        "id": "uZVOS8gE7tzO",
        "outputId": "4cdfc7e5-8a2d-4a36-ce15-5daa2db6e9d3"
      },
      "source": [
        "print(\"In Training Dataset...\")\n",
        "print(\"Number of training ACA images: \", len(os.listdir(TRAIN_ACA_DIR)))\n",
        "print(\"Number of training N images: \", len(os.listdir(TRAIN_N_DIR)))\n",
        "print(\"Number of training SCC images: \", len(os.listdir(TRAIN_SCC_DIR)))"
      ],
      "execution_count": null,
      "outputs": [
        {
          "output_type": "stream",
          "text": [
            "In Training Dataset...\n",
            "Number of training ACA images:  4506\n",
            "Number of training N images:  4500\n",
            "Number of training SCC images:  4500\n"
          ],
          "name": "stdout"
        }
      ]
    },
    {
      "cell_type": "code",
      "metadata": {
        "id": "mOkTGOfmioOU",
        "colab": {
          "base_uri": "https://localhost:8080/"
        },
        "outputId": "d87c9c2b-c603-4735-9cc2-402bc9015ae2"
      },
      "source": [
        "print(\"In Validation Dataset...\")\n",
        "print(\"Number of validation ACA images: \", len(os.listdir(VAL_ACA_DIR)))\n",
        "print(\"Number of validation N images: \", len(os.listdir(VAL_N_DIR)))\n",
        "print(\"Number of validation SCC images: \", len(os.listdir(VAL_SCC_DIR)))"
      ],
      "execution_count": null,
      "outputs": [
        {
          "output_type": "stream",
          "text": [
            "In Validation Dataset...\n",
            "Number of validation ACA images:  350\n",
            "Number of validation N images:  360\n",
            "Number of validation SCC images:  350\n"
          ],
          "name": "stdout"
        }
      ]
    },
    {
      "cell_type": "code",
      "metadata": {
        "id": "AQn-tJt6i5WN",
        "colab": {
          "base_uri": "https://localhost:8080/"
        },
        "outputId": "c0be69df-c829-49bf-f78e-cb534a846680"
      },
      "source": [
        "print(\"In Testing Dataset...\")\n",
        "print(\"Number of testing ACA images: \", len(os.listdir(TEST_ACA_DIR)))\n",
        "print(\"Number of testing N images: \", len(os.listdir(TEST_N_DIR)))\n",
        "print(\"Number of testing SCC images: \", len(os.listdir(TEST_SCC_DIR)))"
      ],
      "execution_count": null,
      "outputs": [
        {
          "output_type": "stream",
          "text": [
            "In Testing Dataset...\n",
            "Number of testing ACA images:  150\n",
            "Number of testing N images:  150\n",
            "Number of testing SCC images:  150\n"
          ],
          "name": "stdout"
        }
      ]
    },
    {
      "cell_type": "markdown",
      "metadata": {
        "id": "jEB_5fZcjGOK"
      },
      "source": [
        "Image Generator"
      ]
    },
    {
      "cell_type": "code",
      "metadata": {
        "id": "qb9_3GytjCDM",
        "colab": {
          "base_uri": "https://localhost:8080/"
        },
        "outputId": "2b6fbae7-08c8-43b1-ff66-6f7b1ad9d53c"
      },
      "source": [
        "TRAINING_DIR = \"./Splitted/TRAIN\"\n",
        "# Experiment with your own parameters to reach 99.9% validation accuracy or better\n",
        "train_datagen = ImageDataGenerator(rescale=1./255,\n",
        "      rotation_range=40,\n",
        "      width_shift_range=0.2,\n",
        "      height_shift_range=0.2,\n",
        "      shear_range=0.2,\n",
        "      zoom_range=0.2,\n",
        "      horizontal_flip=True,\n",
        "      fill_mode='nearest')\n",
        "train_generator = train_datagen.flow_from_directory(TRAINING_DIR,\n",
        "                                                    class_mode='categorical',\n",
        "                                                    target_size=(150, 150))\n",
        "\n",
        "VALIDATION_DIR = \"./Splitted/VAL\"\n",
        "validation_datagen = ImageDataGenerator(rescale=1./255)\n",
        "validation_generator = validation_datagen.flow_from_directory(VALIDATION_DIR,\n",
        "                                                              class_mode='categorical',\n",
        "                                                              target_size=(150, 150))"
      ],
      "execution_count": null,
      "outputs": [
        {
          "output_type": "stream",
          "text": [
            "Found 13506 images belonging to 3 classes.\n",
            "Found 1060 images belonging to 3 classes.\n"
          ],
          "name": "stdout"
        }
      ]
    },
    {
      "cell_type": "code",
      "metadata": {
        "id": "gVfnhSw0jO4_"
      },
      "source": [
        "model = tf.keras.models.Sequential([\n",
        "    # Note the input shape is the desired size of the image 150x150 with 3 bytes color\n",
        "    tf.keras.layers.Conv2D(16, (3,3), activation='relu', input_shape=(150, 150, 3)),\n",
        "    tf.keras.layers.MaxPooling2D(2,2),\n",
        "    tf.keras.layers.Conv2D(32, (3,3), activation='relu'),\n",
        "    tf.keras.layers.MaxPooling2D(2,2), \n",
        "    tf.keras.layers.Conv2D(64, (3,3), activation='relu'), \n",
        "    tf.keras.layers.MaxPooling2D(2,2),\n",
        "    # Flatten the results to feed into a DNN\n",
        "    tf.keras.layers.Flatten(), \n",
        "    # 512 neuron hidden layer\n",
        "    tf.keras.layers.Dense(512, activation='relu'), \n",
        "    tf.keras.layers.Dropout(0.1, seed=2019),\n",
        "    tf.keras.layers.Dense(200, activation='relu'),\n",
        "    tf.keras.layers.Dropout(0.2, seed=2019),\n",
        "    tf.keras.layers.Dense(3, activation='softmax')  \n",
        "])"
      ],
      "execution_count": null,
      "outputs": []
    },
    {
      "cell_type": "code",
      "metadata": {
        "id": "8Jgr60VrjeZH"
      },
      "source": [
        "from tensorflow.keras.optimizers import Adam\n",
        "\n",
        "model.compile(optimizer=Adam(lr=0.001),loss='categorical_crossentropy', metrics = ['acc'])"
      ],
      "execution_count": null,
      "outputs": []
    },
    {
      "cell_type": "code",
      "metadata": {
        "id": "6NnhgT65jgq8",
        "colab": {
          "base_uri": "https://localhost:8080/"
        },
        "outputId": "94b9be12-3488-4256-cbb0-49effe6e3e84"
      },
      "source": [
        "from tensorflow.keras.callbacks import EarlyStopping\n",
        "monitor = EarlyStopping(monitor='val_loss', min_delta=0.001, patience=15, verbose=2, mode='auto',\n",
        "        restore_best_weights=True)\n",
        "history = model.fit(train_generator,\n",
        "                     validation_data=validation_generator,callbacks=[monitor],verbose=2,epochs=500)"
      ],
      "execution_count": null,
      "outputs": [
        {
          "output_type": "stream",
          "text": [
            "Epoch 1/500\n",
            "423/423 - 3881s - loss: 0.4091 - acc: 0.8230 - val_loss: 0.2865 - val_acc: 0.8792\n",
            "Epoch 2/500\n",
            "423/423 - 216s - loss: 0.2767 - acc: 0.8878 - val_loss: 0.1749 - val_acc: 0.9340\n",
            "Epoch 3/500\n",
            "423/423 - 215s - loss: 0.2468 - acc: 0.8983 - val_loss: 0.2157 - val_acc: 0.8915\n",
            "Epoch 4/500\n",
            "423/423 - 215s - loss: 0.2005 - acc: 0.9206 - val_loss: 0.1464 - val_acc: 0.9377\n",
            "Epoch 5/500\n",
            "423/423 - 212s - loss: 0.1818 - acc: 0.9279 - val_loss: 0.1627 - val_acc: 0.9377\n",
            "Epoch 6/500\n",
            "423/423 - 212s - loss: 0.1798 - acc: 0.9268 - val_loss: 0.1149 - val_acc: 0.9481\n",
            "Epoch 7/500\n",
            "423/423 - 213s - loss: 0.1599 - acc: 0.9365 - val_loss: 0.1090 - val_acc: 0.9613\n",
            "Epoch 8/500\n",
            "423/423 - 210s - loss: 0.1545 - acc: 0.9394 - val_loss: 0.1078 - val_acc: 0.9575\n",
            "Epoch 9/500\n",
            "423/423 - 208s - loss: 0.1377 - acc: 0.9443 - val_loss: 0.1173 - val_acc: 0.9462\n",
            "Epoch 10/500\n",
            "423/423 - 207s - loss: 0.1341 - acc: 0.9468 - val_loss: 0.0820 - val_acc: 0.9632\n",
            "Epoch 11/500\n",
            "423/423 - 207s - loss: 0.1295 - acc: 0.9484 - val_loss: 0.1387 - val_acc: 0.9472\n",
            "Epoch 12/500\n",
            "423/423 - 209s - loss: 0.1351 - acc: 0.9465 - val_loss: 0.0821 - val_acc: 0.9623\n",
            "Epoch 13/500\n",
            "423/423 - 210s - loss: 0.1243 - acc: 0.9488 - val_loss: 0.0898 - val_acc: 0.9632\n",
            "Epoch 14/500\n",
            "423/423 - 207s - loss: 0.1364 - acc: 0.9449 - val_loss: 0.0862 - val_acc: 0.9651\n",
            "Epoch 15/500\n",
            "423/423 - 208s - loss: 0.1299 - acc: 0.9465 - val_loss: 0.2496 - val_acc: 0.8934\n",
            "Epoch 16/500\n",
            "423/423 - 206s - loss: 0.1512 - acc: 0.9405 - val_loss: 0.1116 - val_acc: 0.9575\n",
            "Epoch 17/500\n",
            "423/423 - 209s - loss: 0.1258 - acc: 0.9488 - val_loss: 0.0942 - val_acc: 0.9623\n",
            "Epoch 18/500\n",
            "423/423 - 210s - loss: 0.1222 - acc: 0.9521 - val_loss: 0.0725 - val_acc: 0.9689\n",
            "Epoch 19/500\n",
            "423/423 - 209s - loss: 0.1048 - acc: 0.9573 - val_loss: 0.0586 - val_acc: 0.9774\n",
            "Epoch 20/500\n",
            "423/423 - 207s - loss: 0.0962 - acc: 0.9613 - val_loss: 0.0683 - val_acc: 0.9623\n",
            "Epoch 21/500\n",
            "423/423 - 206s - loss: 0.1015 - acc: 0.9596 - val_loss: 0.0585 - val_acc: 0.9755\n",
            "Epoch 22/500\n",
            "423/423 - 207s - loss: 0.0970 - acc: 0.9631 - val_loss: 0.0796 - val_acc: 0.9660\n",
            "Epoch 23/500\n",
            "423/423 - 207s - loss: 0.0960 - acc: 0.9631 - val_loss: 0.0533 - val_acc: 0.9830\n",
            "Epoch 24/500\n",
            "423/423 - 210s - loss: 0.1069 - acc: 0.9593 - val_loss: 0.0692 - val_acc: 0.9783\n",
            "Epoch 25/500\n",
            "423/423 - 207s - loss: 0.0968 - acc: 0.9628 - val_loss: 0.0539 - val_acc: 0.9745\n",
            "Epoch 26/500\n",
            "423/423 - 208s - loss: 0.0811 - acc: 0.9685 - val_loss: 0.0542 - val_acc: 0.9811\n",
            "Epoch 27/500\n",
            "423/423 - 206s - loss: 0.0801 - acc: 0.9698 - val_loss: 0.0653 - val_acc: 0.9717\n",
            "Epoch 28/500\n",
            "423/423 - 207s - loss: 0.0927 - acc: 0.9668 - val_loss: 0.0328 - val_acc: 0.9915\n",
            "Epoch 29/500\n",
            "423/423 - 208s - loss: 0.0720 - acc: 0.9716 - val_loss: 0.0792 - val_acc: 0.9708\n",
            "Epoch 30/500\n",
            "423/423 - 211s - loss: 0.0690 - acc: 0.9733 - val_loss: 0.0636 - val_acc: 0.9764\n",
            "Epoch 31/500\n",
            "423/423 - 210s - loss: 0.0646 - acc: 0.9743 - val_loss: 0.0361 - val_acc: 0.9877\n",
            "Epoch 32/500\n",
            "423/423 - 208s - loss: 0.0768 - acc: 0.9702 - val_loss: 0.0448 - val_acc: 0.9877\n",
            "Epoch 33/500\n",
            "423/423 - 209s - loss: 0.0692 - acc: 0.9736 - val_loss: 0.0667 - val_acc: 0.9783\n",
            "Epoch 34/500\n",
            "423/423 - 206s - loss: 0.0660 - acc: 0.9759 - val_loss: 0.0308 - val_acc: 0.9868\n",
            "Epoch 35/500\n",
            "423/423 - 206s - loss: 0.0693 - acc: 0.9732 - val_loss: 0.0258 - val_acc: 0.9906\n",
            "Epoch 36/500\n",
            "423/423 - 211s - loss: 0.0556 - acc: 0.9795 - val_loss: 0.0442 - val_acc: 0.9830\n",
            "Epoch 37/500\n",
            "423/423 - 208s - loss: 0.0550 - acc: 0.9785 - val_loss: 0.0375 - val_acc: 0.9887\n",
            "Epoch 38/500\n",
            "423/423 - 210s - loss: 0.0797 - acc: 0.9716 - val_loss: 0.0187 - val_acc: 0.9925\n",
            "Epoch 39/500\n",
            "423/423 - 208s - loss: 0.0619 - acc: 0.9775 - val_loss: 0.0207 - val_acc: 0.9925\n",
            "Epoch 40/500\n",
            "423/423 - 207s - loss: 0.0520 - acc: 0.9807 - val_loss: 0.0148 - val_acc: 0.9981\n",
            "Epoch 41/500\n",
            "423/423 - 210s - loss: 0.0609 - acc: 0.9782 - val_loss: 0.0293 - val_acc: 0.9896\n",
            "Epoch 42/500\n",
            "423/423 - 209s - loss: 0.0491 - acc: 0.9805 - val_loss: 0.0113 - val_acc: 0.9962\n",
            "Epoch 43/500\n",
            "423/423 - 206s - loss: 0.0548 - acc: 0.9806 - val_loss: 0.0110 - val_acc: 0.9972\n",
            "Epoch 44/500\n",
            "423/423 - 206s - loss: 0.0529 - acc: 0.9802 - val_loss: 0.0130 - val_acc: 0.9934\n",
            "Epoch 45/500\n",
            "423/423 - 207s - loss: 0.0665 - acc: 0.9763 - val_loss: 0.0189 - val_acc: 0.9943\n",
            "Epoch 46/500\n",
            "423/423 - 206s - loss: 0.0545 - acc: 0.9805 - val_loss: 0.0182 - val_acc: 0.9915\n",
            "Epoch 47/500\n",
            "423/423 - 209s - loss: 0.0578 - acc: 0.9776 - val_loss: 0.0217 - val_acc: 0.9934\n",
            "Epoch 48/500\n",
            "423/423 - 209s - loss: 0.0412 - acc: 0.9855 - val_loss: 0.0276 - val_acc: 0.9896\n",
            "Epoch 49/500\n",
            "423/423 - 206s - loss: 0.0500 - acc: 0.9813 - val_loss: 0.0440 - val_acc: 0.9821\n",
            "Epoch 50/500\n",
            "423/423 - 207s - loss: 0.0476 - acc: 0.9828 - val_loss: 0.0114 - val_acc: 0.9953\n",
            "Epoch 51/500\n",
            "423/423 - 206s - loss: 0.0524 - acc: 0.9808 - val_loss: 0.0142 - val_acc: 0.9934\n",
            "Epoch 52/500\n",
            "423/423 - 207s - loss: 0.0654 - acc: 0.9767 - val_loss: 0.0165 - val_acc: 0.9953\n",
            "Epoch 53/500\n",
            "423/423 - 209s - loss: 0.0488 - acc: 0.9821 - val_loss: 0.0125 - val_acc: 0.9953\n",
            "Epoch 54/500\n",
            "423/423 - 208s - loss: 0.0461 - acc: 0.9825 - val_loss: 0.0140 - val_acc: 0.9972\n",
            "Epoch 55/500\n",
            "423/423 - 205s - loss: 0.0563 - acc: 0.9801 - val_loss: 0.0164 - val_acc: 0.9953\n",
            "Epoch 56/500\n",
            "423/423 - 204s - loss: 0.0349 - acc: 0.9878 - val_loss: 0.0097 - val_acc: 0.9972\n",
            "Epoch 57/500\n",
            "423/423 - 204s - loss: 0.0375 - acc: 0.9860 - val_loss: 0.0101 - val_acc: 0.9972\n",
            "Epoch 58/500\n",
            "423/423 - 204s - loss: 0.0460 - acc: 0.9847 - val_loss: 0.0176 - val_acc: 0.9953\n",
            "Epoch 59/500\n",
            "423/423 - 208s - loss: 0.0511 - acc: 0.9819 - val_loss: 0.0074 - val_acc: 0.9981\n",
            "Epoch 60/500\n",
            "423/423 - 204s - loss: 0.0433 - acc: 0.9850 - val_loss: 0.0094 - val_acc: 0.9981\n",
            "Epoch 61/500\n",
            "423/423 - 205s - loss: 0.0383 - acc: 0.9868 - val_loss: 0.0192 - val_acc: 0.9943\n",
            "Epoch 62/500\n",
            "423/423 - 205s - loss: 0.0382 - acc: 0.9869 - val_loss: 0.0072 - val_acc: 0.9991\n",
            "Epoch 63/500\n",
            "423/423 - 206s - loss: 0.0487 - acc: 0.9829 - val_loss: 0.0254 - val_acc: 0.9896\n",
            "Epoch 64/500\n",
            "423/423 - 205s - loss: 0.0502 - acc: 0.9828 - val_loss: 0.0196 - val_acc: 0.9953\n",
            "Epoch 65/500\n",
            "423/423 - 209s - loss: 0.0374 - acc: 0.9871 - val_loss: 0.0484 - val_acc: 0.9840\n",
            "Epoch 66/500\n",
            "423/423 - 205s - loss: 0.0384 - acc: 0.9872 - val_loss: 0.0154 - val_acc: 0.9943\n",
            "Epoch 67/500\n",
            "423/423 - 205s - loss: 0.0386 - acc: 0.9861 - val_loss: 0.0130 - val_acc: 0.9972\n",
            "Epoch 68/500\n",
            "423/423 - 205s - loss: 0.0297 - acc: 0.9899 - val_loss: 0.0066 - val_acc: 0.9991\n",
            "Epoch 69/500\n",
            "423/423 - 206s - loss: 0.0419 - acc: 0.9862 - val_loss: 0.0118 - val_acc: 0.9972\n",
            "Epoch 70/500\n",
            "423/423 - 206s - loss: 0.0339 - acc: 0.9884 - val_loss: 0.0147 - val_acc: 0.9962\n",
            "Epoch 71/500\n",
            "423/423 - 210s - loss: 0.0466 - acc: 0.9853 - val_loss: 0.0447 - val_acc: 0.9840\n",
            "Epoch 72/500\n",
            "423/423 - 208s - loss: 0.0501 - acc: 0.9818 - val_loss: 0.0156 - val_acc: 0.9943\n",
            "Epoch 73/500\n",
            "423/423 - 207s - loss: 0.0355 - acc: 0.9877 - val_loss: 0.0069 - val_acc: 0.9972\n",
            "Epoch 74/500\n",
            "423/423 - 210s - loss: 0.0361 - acc: 0.9883 - val_loss: 0.0189 - val_acc: 0.9953\n",
            "Restoring model weights from the end of the best epoch.\n",
            "Epoch 00074: early stopping\n"
          ],
          "name": "stdout"
        }
      ]
    },
    {
      "cell_type": "code",
      "metadata": {
        "id": "fw5Bpttrjhrd",
        "colab": {
          "base_uri": "https://localhost:8080/",
          "height": 295
        },
        "outputId": "0e8ebd7d-61fc-486e-ec63-cecb16914bbb"
      },
      "source": [
        "import matplotlib.pyplot as plt\n",
        "plt.plot(history.history['loss'])\n",
        "plt.plot(history.history['val_loss'])\n",
        "plt.title('model loss')\n",
        "plt.ylabel('loss')\n",
        "plt.xlabel('epoch')\n",
        "plt.legend(['train', 'test'], loc='upper right')\n",
        "plt.show()"
      ],
      "execution_count": null,
      "outputs": [
        {
          "output_type": "display_data",
          "data": {
            "image/png": "[encoded data removed]",
            "text/plain": [
              "<Figure size 432x288 with 1 Axes>"
            ]
          },
          "metadata": {
            "tags": [],
            "needs_background": "light"
          }
        }
      ]
    },
    {
      "cell_type": "code",
      "metadata": {
        "colab": {
          "base_uri": "https://localhost:8080/"
        },
        "id": "pVGnVhjqhl1V",
        "outputId": "d73efd60-7315-4699-c230-279bb26181f4"
      },
      "source": [
        "tf.keras.models.save_model(model=model, filepath=\"/content/drive/MyDrive/Built Models/Lung_Cancer_01May\")"
      ],
      "execution_count": null,
      "outputs": [
        {
          "output_type": "stream",
          "text": [
            "INFO:tensorflow:Assets written to: /content/drive/MyDrive/Built Models/Lung_Cancer_01May/assets\n"
          ],
          "name": "stdout"
        }
      ]
    },
    {
      "cell_type": "code",
      "metadata": {
        "id": "baM_9BPFjmE1",
        "colab": {
          "resources": {
            "http://localhost:8080/nbextensions/google.colab/files.js": {
              "data": "Ly8gQ29weXJpZ2h0IDIwMTcgR29vZ2xlIExMQwovLwovLyBMaWNlbnNlZCB1bmRlciB0aGUgQXBhY2hlIExpY2Vuc2UsIFZlcnNpb24gMi4wICh0aGUgIkxpY2Vuc2UiKTsKLy8geW91IG1heSBub3QgdXNlIHRoaXMgZmlsZSBleGNlcHQgaW4gY29tcGxpYW5jZSB3aXRoIHRoZSBMaWNlbnNlLgovLyBZb3UgbWF5IG9idGFpbiBhIGNvcHkgb2YgdGhlIExpY2Vuc2UgYXQKLy8KLy8gICAgICBodHRwOi8vd3d3LmFwYWNoZS5vcmcvbGljZW5zZXMvTElDRU5TRS0yLjAKLy8KLy8gVW5sZXNzIHJlcXVpcmVkIGJ5IGFwcGxpY2FibGUgbGF3IG9yIGFncmVlZCB0byBpbiB3cml0aW5nLCBzb2Z0d2FyZQovLyBkaXN0cmlidXRlZCB1bmRlciB0aGUgTGljZW5zZSBpcyBkaXN0cmlidXRlZCBvbiBhbiAiQVMgSVMiIEJBU0lTLAovLyBXSVRIT1VUIFdBUlJBTlRJRVMgT1IgQ09ORElUSU9OUyBPRiBBTlkgS0lORCwgZWl0aGVyIGV4cHJlc3Mgb3IgaW1wbGllZC4KLy8gU2VlIHRoZSBMaWNlbnNlIGZvciB0aGUgc3BlY2lmaWMgbGFuZ3VhZ2UgZ292ZXJuaW5nIHBlcm1pc3Npb25zIGFuZAovLyBsaW1pdGF0aW9ucyB1bmRlciB0aGUgTGljZW5zZS4KCi8qKgogKiBAZmlsZW92ZXJ2aWV3IEhlbHBlcnMgZm9yIGdvb2dsZS5jb2xhYiBQeXRob24gbW9kdWxlLgogKi8KKGZ1bmN0aW9uKHNjb3BlKSB7CmZ1bmN0aW9uIHNwYW4odGV4dCwgc3R5bGVBdHRyaWJ1dGVzID0ge30pIHsKICBjb25zdCBlbGVtZW50ID0gZG9jdW1lbnQuY3JlYXRlRWxlbWVudCgnc3BhbicpOwogIGVsZW1lbnQudGV4dENvbnRlbnQgPSB0ZXh0OwogIGZvciAoY29uc3Qga2V5IG9mIE9iamVjdC5rZXlzKHN0eWxlQXR0cmlidXRlcykpIHsKICAgIGVsZW1lbnQuc3R5bGVba2V5XSA9IHN0eWxlQXR0cmlidXRlc1trZXldOwogIH0KICByZXR1cm4gZWxlbWVudDsKfQoKLy8gTWF4IG51bWJlciBvZiBieXRlcyB3aGljaCB3aWxsIGJlIHVwbG9hZGVkIGF0IGEgdGltZS4KY29uc3QgTUFYX1BBWUxPQURfU0laRSA9IDEwMCAqIDEwMjQ7CgpmdW5jdGlvbiBfdXBsb2FkRmlsZXMoaW5wdXRJZCwgb3V0cHV0SWQpIHsKICBjb25zdCBzdGVwcyA9IHVwbG9hZEZpbGVzU3RlcChpbnB1dElkLCBvdXRwdXRJZCk7CiAgY29uc3Qgb3V0cHV0RWxlbWVudCA9IGRvY3VtZW50LmdldEVsZW1lbnRCeUlkKG91dHB1dElkKTsKICAvLyBDYWNoZSBzdGVwcyBvbiB0aGUgb3V0cHV0RWxlbWVudCB0byBtYWtlIGl0IGF2YWlsYWJsZSBmb3IgdGhlIG5leHQgY2FsbAogIC8vIHRvIHVwbG9hZEZpbGVzQ29udGludWUgZnJvbSBQeXRob24uCiAgb3V0cHV0RWxlbWVudC5zdGVwcyA9IHN0ZXBzOwoKICByZXR1cm4gX3VwbG9hZEZpbGVzQ29udGludWUob3V0cHV0SWQpOwp9CgovLyBUaGlzIGlzIHJvdWdobHkgYW4gYXN5bmMgZ2VuZXJhdG9yIChub3Qgc3VwcG9ydGVkIGluIHRoZSBicm93c2VyIHlldCksCi8vIHdoZXJlIHRoZXJlIGFyZSBtdWx0aXBsZSBhc3luY2hyb25vdXMgc3RlcHMgYW5kIHRoZSBQeXRob24gc2lkZSBpcyBnb2luZwovLyB0byBwb2xsIGZvciBjb21wbGV0aW9uIG9mIGVhY2ggc3RlcC4KLy8gVGhpcyB1c2VzIGEgUHJvbWlzZSB0byBibG9jayB0aGUgcHl0aG9uIHNpZGUgb24gY29tcGxldGlvbiBvZiBlYWNoIHN0ZXAsCi8vIHRoZW4gcGFzc2VzIHRoZSByZXN1bHQgb2YgdGhlIHByZXZpb3VzIHN0ZXAgYXMgdGhlIGlucHV0IHRvIHRoZSBuZXh0IHN0ZXAuCmZ1bmN0aW9uIF91cGxvYWRGaWxlc0NvbnRpbnVlKG91dHB1dElkKSB7CiAgY29uc3Qgb3V0cHV0RWxlbWVudCA9IGRvY3VtZW50LmdldEVsZW1lbnRCeUlkKG91dHB1dElkKTsKICBjb25zdCBzdGVwcyA9IG91dHB1dEVsZW1lbnQuc3RlcHM7CgogIGNvbnN0IG5leHQgPSBzdGVwcy5uZXh0KG91dHB1dEVsZW1lbnQubGFzdFByb21pc2VWYWx1ZSk7CiAgcmV0dXJuIFByb21pc2UucmVzb2x2ZShuZXh0LnZhbHVlLnByb21pc2UpLnRoZW4oKHZhbHVlKSA9PiB7CiAgICAvLyBDYWNoZSB0aGUgbGFzdCBwcm9taXNlIHZhbHVlIHRvIG1ha2UgaXQgYXZhaWxhYmxlIHRvIHRoZSBuZXh0CiAgICAvLyBzdGVwIG9mIHRoZSBnZW5lcmF0b3IuCiAgICBvdXRwdXRFbGVtZW50Lmxhc3RQcm9taXNlVmFsdWUgPSB2YWx1ZTsKICAgIHJldHVybiBuZXh0LnZhbHVlLnJlc3BvbnNlOwogIH0pOwp9CgovKioKICogR2VuZXJhdG9yIGZ1bmN0aW9uIHdoaWNoIGlzIGNhbGxlZCBiZXR3ZWVuIGVhY2ggYXN5bmMgc3RlcCBvZiB0aGUgdXBsb2FkCiAqIHByb2Nlc3MuCiAqIEBwYXJhbSB7c3RyaW5nfSBpbnB1dElkIEVsZW1lbnQgSUQgb2YgdGhlIGlucHV0IGZpbGUgcGlja2VyIGVsZW1lbnQuCiAqIEBwYXJhbSB7c3RyaW5nfSBvdXRwdXRJZCBFbGVtZW50IElEIG9mIHRoZSBvdXRwdXQgZGlzcGxheS4KICogQHJldHVybiB7IUl0ZXJhYmxlPCFPYmplY3Q+fSBJdGVyYWJsZSBvZiBuZXh0IHN0ZXBzLgogKi8KZnVuY3Rpb24qIHVwbG9hZEZpbGVzU3RlcChpbnB1dElkLCBvdXRwdXRJZCkgewogIGNvbnN0IGlucHV0RWxlbWVudCA9IGRvY3VtZW50LmdldEVsZW1lbnRCeUlkKGlucHV0SWQpOwogIGlucHV0RWxlbWVudC5kaXNhYmxlZCA9IGZhbHNlOwoKICBjb25zdCBvdXRwdXRFbGVtZW50ID0gZG9jdW1lbnQuZ2V0RWxlbWVudEJ5SWQob3V0cHV0SWQpOwogIG91dHB1dEVsZW1lbnQuaW5uZXJIVE1MID0gJyc7CgogIGNvbnN0IHBpY2tlZFByb21pc2UgPSBuZXcgUHJvbWlzZSgocmVzb2x2ZSkgPT4gewogICAgaW5wdXRFbGVtZW50LmFkZEV2ZW50TGlzdGVuZXIoJ2NoYW5nZScsIChlKSA9PiB7CiAgICAgIHJlc29sdmUoZS50YXJnZXQuZmlsZXMpOwogICAgfSk7CiAgfSk7CgogIGNvbnN0IGNhbmNlbCA9IGRvY3VtZW50LmNyZWF0ZUVsZW1lbnQoJ2J1dHRvbicpOwogIGlucHV0RWxlbWVudC5wYXJlbnRFbGVtZW50LmFwcGVuZENoaWxkKGNhbmNlbCk7CiAgY2FuY2VsLnRleHRDb250ZW50ID0gJ0NhbmNlbCB1cGxvYWQnOwogIGNvbnN0IGNhbmNlbFByb21pc2UgPSBuZXcgUHJvbWlzZSgocmVzb2x2ZSkgPT4gewogICAgY2FuY2VsLm9uY2xpY2sgPSAoKSA9PiB7CiAgICAgIHJlc29sdmUobnVsbCk7CiAgICB9OwogIH0pOwoKICAvLyBXYWl0IGZvciB0aGUgdXNlciB0byBwaWNrIHRoZSBmaWxlcy4KICBjb25zdCBmaWxlcyA9IHlpZWxkIHsKICAgIHByb21pc2U6IFByb21pc2UucmFjZShbcGlja2VkUHJvbWlzZSwgY2FuY2VsUHJvbWlzZV0pLAogICAgcmVzcG9uc2U6IHsKICAgICAgYWN0aW9uOiAnc3RhcnRpbmcnLAogICAgfQogIH07CgogIGNhbmNlbC5yZW1vdmUoKTsKCiAgLy8gRGlzYWJsZSB0aGUgaW5wdXQgZWxlbWVudCBzaW5jZSBmdXJ0aGVyIHBpY2tzIGFyZSBub3QgYWxsb3dlZC4KICBpbnB1dEVsZW1lbnQuZGlzYWJsZWQgPSB0cnVlOwoKICBpZiAoIWZpbGVzKSB7CiAgICByZXR1cm4gewogICAgICByZXNwb25zZTogewogICAgICAgIGFjdGlvbjogJ2NvbXBsZXRlJywKICAgICAgfQogICAgfTsKICB9CgogIGZvciAoY29uc3QgZmlsZSBvZiBmaWxlcykgewogICAgY29uc3QgbGkgPSBkb2N1bWVudC5jcmVhdGVFbGVtZW50KCdsaScpOwogICAgbGkuYXBwZW5kKHNwYW4oZmlsZS5uYW1lLCB7Zm9udFdlaWdodDogJ2JvbGQnfSkpOwogICAgbGkuYXBwZW5kKHNwYW4oCiAgICAgICAgYCgke2ZpbGUudHlwZSB8fCAnbi9hJ30pIC0gJHtmaWxlLnNpemV9IGJ5dGVzLCBgICsKICAgICAgICBgbGFzdCBtb2RpZmllZDogJHsKICAgICAgICAgICAgZmlsZS5sYXN0TW9kaWZpZWREYXRlID8gZmlsZS5sYXN0TW9kaWZpZWREYXRlLnRvTG9jYWxlRGF0ZVN0cmluZygpIDoKICAgICAgICAgICAgICAgICAgICAgICAgICAgICAgICAgICAgJ24vYSd9IC0gYCkpOwogICAgY29uc3QgcGVyY2VudCA9IHNwYW4oJzAlIGRvbmUnKTsKICAgIGxpLmFwcGVuZENoaWxkKHBlcmNlbnQpOwoKICAgIG91dHB1dEVsZW1lbnQuYXBwZW5kQ2hpbGQobGkpOwoKICAgIGNvbnN0IGZpbGVEYXRhUHJvbWlzZSA9IG5ldyBQcm9taXNlKChyZXNvbHZlKSA9PiB7CiAgICAgIGNvbnN0IHJlYWRlciA9IG5ldyBGaWxlUmVhZGVyKCk7CiAgICAgIHJlYWRlci5vbmxvYWQgPSAoZSkgPT4gewogICAgICAgIHJlc29sdmUoZS50YXJnZXQucmVzdWx0KTsKICAgICAgfTsKICAgICAgcmVhZGVyLnJlYWRBc0FycmF5QnVmZmVyKGZpbGUpOwogICAgfSk7CiAgICAvLyBXYWl0IGZvciB0aGUgZGF0YSB0byBiZSByZWFkeS4KICAgIGxldCBmaWxlRGF0YSA9IHlpZWxkIHsKICAgICAgcHJvbWlzZTogZmlsZURhdGFQcm9taXNlLAogICAgICByZXNwb25zZTogewogICAgICAgIGFjdGlvbjogJ2NvbnRpbnVlJywKICAgICAgfQogICAgfTsKCiAgICAvLyBVc2UgYSBjaHVua2VkIHNlbmRpbmcgdG8gYXZvaWQgbWVzc2FnZSBzaXplIGxpbWl0cy4gU2VlIGIvNjIxMTU2NjAuCiAgICBsZXQgcG9zaXRpb24gPSAwOwogICAgd2hpbGUgKHBvc2l0aW9uIDwgZmlsZURhdGEuYnl0ZUxlbmd0aCkgewogICAgICBjb25zdCBsZW5ndGggPSBNYXRoLm1pbihmaWxlRGF0YS5ieXRlTGVuZ3RoIC0gcG9zaXRpb24sIE1BWF9QQVlMT0FEX1NJWkUpOwogICAgICBjb25zdCBjaHVuayA9IG5ldyBVaW50OEFycmF5KGZpbGVEYXRhLCBwb3NpdGlvbiwgbGVuZ3RoKTsKICAgICAgcG9zaXRpb24gKz0gbGVuZ3RoOwoKICAgICAgY29uc3QgYmFzZTY0ID0gYnRvYShTdHJpbmcuZnJvbUNoYXJDb2RlLmFwcGx5KG51bGwsIGNodW5rKSk7CiAgICAgIHlpZWxkIHsKICAgICAgICByZXNwb25zZTogewogICAgICAgICAgYWN0aW9uOiAnYXBwZW5kJywKICAgICAgICAgIGZpbGU6IGZpbGUubmFtZSwKICAgICAgICAgIGRhdGE6IGJhc2U2NCwKICAgICAgICB9LAogICAgICB9OwogICAgICBwZXJjZW50LnRleHRDb250ZW50ID0KICAgICAgICAgIGAke01hdGgucm91bmQoKHBvc2l0aW9uIC8gZmlsZURhdGEuYnl0ZUxlbmd0aCkgKiAxMDApfSUgZG9uZWA7CiAgICB9CiAgfQoKICAvLyBBbGwgZG9uZS4KICB5aWVsZCB7CiAgICByZXNwb25zZTogewogICAgICBhY3Rpb246ICdjb21wbGV0ZScsCiAgICB9CiAgfTsKfQoKc2NvcGUuZ29vZ2xlID0gc2NvcGUuZ29vZ2xlIHx8IHt9OwpzY29wZS5nb29nbGUuY29sYWIgPSBzY29wZS5nb29nbGUuY29sYWIgfHwge307CnNjb3BlLmdvb2dsZS5jb2xhYi5fZmlsZXMgPSB7CiAgX3VwbG9hZEZpbGVzLAogIF91cGxvYWRGaWxlc0NvbnRpbnVlLAp9Owp9KShzZWxmKTsK",
              "ok": true,
              "headers": [
                [
                  "content-type",
                  "application/javascript"
                ]
              ],
              "status": 200,
              "status_text": ""
            }
          },
          "base_uri": "https://localhost:8080/",
          "height": 106
        },
        "outputId": "b4970d6e-187a-4ce2-8319-096bc7e8abfc"
      },
      "source": [
        "from google.colab import files\n",
        "from keras.preprocessing import image\n",
        "\n",
        "uploaded = files.upload()\n",
        "\n",
        "for fn in uploaded.keys():\n",
        " \n",
        "  # predicting images\n",
        "  path = fn\n",
        "  img = image.load_img(path, target_size=(150, 150))\n",
        "  x = image.img_to_array(img)\n",
        "  x = np.expand_dims(x, axis=0)\n",
        "\n",
        "  images = np.vstack([x])\n",
        "  classes = model.predict(images, batch_size=10)\n",
        "  print(fn)\n",
        "  print(classes)"
      ],
      "execution_count": null,
      "outputs": [
        {
          "output_type": "display_data",
          "data": {
            "text/html": [
              "\n",
              "     <input type=\"file\" id=\"files-2e233468-7b82-4722-9f58-7831c20a0088\" name=\"files[]\" multiple disabled\n",
              "        style=\"border:none\" />\n",
              "     <output id=\"result-2e233468-7b82-4722-9f58-7831c20a0088\">\n",
              "      Upload widget is only available when the cell has been executed in the\n",
              "      current browser session. Please rerun this cell to enable.\n",
              "      </output>\n",
              "      <script src=\"/nbextensions/google.colab/files.js\"></script> "
            ],
            "text/plain": [
              "<IPython.core.display.HTML object>"
            ]
          },
          "metadata": {
            "tags": []
          }
        },
        {
          "output_type": "stream",
          "text": [
            "Saving lungn243.jpeg to lungn243.jpeg\n",
            "lungn243.jpeg\n",
            "[[0. 1. 0.]]\n"
          ],
          "name": "stdout"
        }
      ]
    }
  ]
}